{
 "cells": [
  {
   "cell_type": "code",
   "execution_count": 24,
   "id": "4db5e38b",
   "metadata": {},
   "outputs": [],
   "source": [
    "import numpy as np\n",
    "import pandas as pd\n",
    "from sklearn.model_selection import train_test_split\n",
    "from sklearn.impute import SimpleImputer\n",
    "from sklearn.compose import ColumnTransformer\n",
    "from sklearn.preprocessing import OneHotEncoder, LabelEncoder\n",
    "from sklearn.preprocessing import StandardScaler"
   ]
  },
  {
   "cell_type": "code",
   "execution_count": 25,
   "id": "a9db9f58",
   "metadata": {},
   "outputs": [],
   "source": [
    "dataset = pd.read_csv('heart_attack.csv')"
   ]
  },
  {
   "cell_type": "code",
   "execution_count": 2,
   "id": "17cd6dd0",
   "metadata": {},
   "outputs": [
    {
     "ename": "NameError",
     "evalue": "name 'dataset' is not defined",
     "output_type": "error",
     "traceback": [
      "\u001b[1;31m---------------------------------------------------------------------------\u001b[0m",
      "\u001b[1;31mNameError\u001b[0m                                 Traceback (most recent call last)",
      "\u001b[1;32mc:\\Users\\ADMIN\\Desktop\\Tugas Data Mining\\preprocessing.ipynb Cell 3\u001b[0m line \u001b[0;36m1\n\u001b[1;32m----> <a href='vscode-notebook-cell:/c%3A/Users/ADMIN/Desktop/Tugas%20Data%20Mining/preprocessing.ipynb#W2sZmlsZQ%3D%3D?line=0'>1</a>\u001b[0m dataset\u001b[39m.\u001b[39mhead(\u001b[39m10\u001b[39m)\n",
      "\u001b[1;31mNameError\u001b[0m: name 'dataset' is not defined"
     ]
    }
   ],
   "source": [
    "dataset.head(10)"
   ]
  },
  {
   "cell_type": "code",
   "execution_count": 4,
   "id": "3dc5227e",
   "metadata": {},
   "outputs": [
    {
     "ename": "NameError",
     "evalue": "name 'dataset' is not defined",
     "output_type": "error",
     "traceback": [
      "\u001b[1;31m---------------------------------------------------------------------------\u001b[0m",
      "\u001b[1;31mNameError\u001b[0m                                 Traceback (most recent call last)",
      "\u001b[1;32mc:\\Users\\ADMIN\\Desktop\\Tugas Data Mining\\preprocessing.ipynb Cell 4\u001b[0m line \u001b[0;36m1\n\u001b[1;32m----> <a href='vscode-notebook-cell:/c%3A/Users/ADMIN/Desktop/Tugas%20Data%20Mining/preprocessing.ipynb#W3sZmlsZQ%3D%3D?line=0'>1</a>\u001b[0m dataset\u001b[39m.\u001b[39mhead(\u001b[39m10\u001b[39m)\n",
      "\u001b[1;31mNameError\u001b[0m: name 'dataset' is not defined"
     ]
    }
   ],
   "source": [
    "dataset.head(10)"
   ]
  },
  {
   "cell_type": "code",
   "execution_count": 28,
   "id": "052d58b9",
   "metadata": {},
   "outputs": [],
   "source": [
    "imputer = SimpleImputer(missing_values=np.nan, strategy='mean')\n",
    "imputer.fit(x[:, 1:3])\n",
    "x[:, 1:3] = imputer.transform(x[:, 1:3])\n"
   ]
  },
  {
   "cell_type": "code",
   "execution_count": 29,
   "id": "3300f14a",
   "metadata": {},
   "outputs": [],
   "source": [
    "imputer = SimpleImputer(missing_values=np.nan, strategy='mean')\n",
    "imputer.fit(x[:, 1:3])\n",
    "x[:, 1:3] = imputer.transform(x[:, 1:3])\n"
   ]
  },
  {
   "cell_type": "code",
   "execution_count": 30,
   "id": "7d8e0766",
   "metadata": {},
   "outputs": [
    {
     "name": "stdout",
     "output_type": "stream",
     "text": [
      "[[6.400e+01 1.000e+00 6.600e+01 ... 1.600e+02 1.800e+00 1.200e-02]\n",
      " [2.100e+01 1.000e+00 9.400e+01 ... 2.960e+02 6.750e+00 1.060e+00]\n",
      " [5.500e+01 1.000e+00 6.400e+01 ... 2.700e+02 1.990e+00 3.000e-03]\n",
      " ...\n",
      " [4.500e+01 1.000e+00 8.500e+01 ... 9.600e+01 1.240e+00 4.250e+00]\n",
      " [5.400e+01 1.000e+00 5.800e+01 ... 4.430e+02 5.800e+00 3.590e-01]\n",
      " [5.100e+01 1.000e+00 9.400e+01 ... 1.340e+02 5.089e+01 1.770e+00]]\n",
      "['negative' 'positive' 'negative' ... 'positive' 'positive' 'positive']\n"
     ]
    }
   ],
   "source": [
    "x = dataset.iloc[:, :-1].values\n",
    "y = dataset.iloc[:, -1].values\n",
    "print(x)\n",
    "print(y)"
   ]
  },
  {
   "cell_type": "code",
   "execution_count": 31,
   "id": "de3df5ed",
   "metadata": {},
   "outputs": [
    {
     "name": "stdout",
     "output_type": "stream",
     "text": [
      "[[6.400e+01 1.000e+00 6.600e+01 ... 1.600e+02 1.800e+00 1.200e-02]\n",
      " [2.100e+01 1.000e+00 9.400e+01 ... 2.960e+02 6.750e+00 1.060e+00]\n",
      " [5.500e+01 1.000e+00 6.400e+01 ... 2.700e+02 1.990e+00 3.000e-03]\n",
      " ...\n",
      " [4.500e+01 1.000e+00 8.500e+01 ... 9.600e+01 1.240e+00 4.250e+00]\n",
      " [5.400e+01 1.000e+00 5.800e+01 ... 4.430e+02 5.800e+00 3.590e-01]\n",
      " [5.100e+01 1.000e+00 9.400e+01 ... 1.340e+02 5.089e+01 1.770e+00]]\n"
     ]
    }
   ],
   "source": [
    "imputer = SimpleImputer(missing_values=np.nan, strategy='mean')\n",
    "imputer.fit(x[:, 1:3])\n",
    "x[:, 1:3] = imputer.transform(x[:, 1:3])\n",
    "print(x)"
   ]
  },
  {
   "cell_type": "code",
   "execution_count": 32,
   "id": "ada9f109",
   "metadata": {},
   "outputs": [
    {
     "name": "stdout",
     "output_type": "stream",
     "text": [
      "  (0, 46)\t1.0\n",
      "  (0, 75)\t1.0\n",
      "  (0, 76)\t66.0\n",
      "  (0, 77)\t160.0\n",
      "  (0, 78)\t83.0\n",
      "  (0, 79)\t160.0\n",
      "  (0, 80)\t1.8\n",
      "  (0, 81)\t0.012\n",
      "  (1, 3)\t1.0\n",
      "  (1, 75)\t1.0\n",
      "  (1, 76)\t94.0\n",
      "  (1, 77)\t98.0\n",
      "  (1, 78)\t46.0\n",
      "  (1, 79)\t296.0\n",
      "  (1, 80)\t6.75\n",
      "  (1, 81)\t1.06\n",
      "  (2, 37)\t1.0\n",
      "  (2, 75)\t1.0\n",
      "  (2, 76)\t64.0\n",
      "  (2, 77)\t160.0\n",
      "  (2, 78)\t77.0\n",
      "  (2, 79)\t270.0\n",
      "  (2, 80)\t1.99\n",
      "  (2, 81)\t0.003\n",
      "  (3, 46)\t1.0\n",
      "  :\t:\n",
      "  (1315, 81)\t0.172\n",
      "  (1316, 27)\t1.0\n",
      "  (1316, 75)\t1.0\n",
      "  (1316, 76)\t85.0\n",
      "  (1316, 77)\t168.0\n",
      "  (1316, 78)\t104.0\n",
      "  (1316, 79)\t96.0\n",
      "  (1316, 80)\t1.24\n",
      "  (1316, 81)\t4.25\n",
      "  (1317, 36)\t1.0\n",
      "  (1317, 75)\t1.0\n",
      "  (1317, 76)\t58.0\n",
      "  (1317, 77)\t117.0\n",
      "  (1317, 78)\t68.0\n",
      "  (1317, 79)\t443.0\n",
      "  (1317, 80)\t5.8\n",
      "  (1317, 81)\t0.359\n",
      "  (1318, 33)\t1.0\n",
      "  (1318, 75)\t1.0\n",
      "  (1318, 76)\t94.0\n",
      "  (1318, 77)\t157.0\n",
      "  (1318, 78)\t79.0\n",
      "  (1318, 79)\t134.0\n",
      "  (1318, 80)\t50.89\n",
      "  (1318, 81)\t1.77\n"
     ]
    }
   ],
   "source": [
    "ct = ColumnTransformer(transformers=[('encoder', OneHotEncoder(), [0])], remainder='passthrough')\n",
    "x = ct.fit_transform(x)\n",
    "print(x)"
   ]
  },
  {
   "cell_type": "code",
   "execution_count": 33,
   "id": "64025f73",
   "metadata": {},
   "outputs": [
    {
     "name": "stdout",
     "output_type": "stream",
     "text": [
      "[0 1 0 ... 1 1 1]\n"
     ]
    }
   ],
   "source": [
    "le = LabelEncoder()\n",
    "y = le.fit_transform(y)\n",
    "print(y)"
   ]
  },
  {
   "cell_type": "code",
   "execution_count": 34,
   "id": "4694d7a0",
   "metadata": {},
   "outputs": [],
   "source": [
    "x_train, x_test, y_train, y_test = train_test_split(x, y, test_size=0.2, random_state=1)"
   ]
  },
  {
   "cell_type": "code",
   "execution_count": 35,
   "id": "e10b5762",
   "metadata": {},
   "outputs": [
    {
     "name": "stdout",
     "output_type": "stream",
     "text": [
      "  (0, 37)\t1.0\n",
      "  (0, 76)\t59.0\n",
      "  (0, 77)\t110.0\n",
      "  (0, 78)\t65.0\n",
      "  (0, 79)\t208.0\n",
      "  (0, 80)\t2.53\n",
      "  (0, 81)\t0.024\n",
      "  (1, 15)\t1.0\n",
      "  (1, 75)\t1.0\n",
      "  (1, 76)\t62.0\n",
      "  (1, 77)\t76.0\n",
      "  (1, 78)\t55.0\n",
      "  (1, 79)\t106.0\n",
      "  (1, 80)\t0.71\n",
      "  (1, 81)\t0.007\n",
      "  (2, 47)\t1.0\n",
      "  (2, 75)\t1.0\n",
      "  (2, 76)\t70.0\n",
      "  (2, 77)\t142.0\n",
      "  (2, 78)\t75.0\n",
      "  (2, 79)\t108.0\n",
      "  (2, 80)\t165.0\n",
      "  (2, 81)\t0.058\n",
      "  (3, 34)\t1.0\n",
      "  (3, 75)\t1.0\n",
      "  :\t:\n",
      "  (1051, 80)\t1.9\n",
      "  (1051, 81)\t0.006\n",
      "  (1052, 12)\t1.0\n",
      "  (1052, 75)\t1.0\n",
      "  (1052, 76)\t60.0\n",
      "  (1052, 77)\t202.0\n",
      "  (1052, 78)\t88.0\n",
      "  (1052, 79)\t197.0\n",
      "  (1052, 80)\t12.89\n",
      "  (1052, 81)\t0.003\n",
      "  (1053, 42)\t1.0\n",
      "  (1053, 75)\t1.0\n",
      "  (1053, 76)\t53.0\n",
      "  (1053, 77)\t102.0\n",
      "  (1053, 78)\t61.0\n",
      "  (1053, 79)\t303.0\n",
      "  (1053, 80)\t14.07\n",
      "  (1053, 81)\t0.816\n",
      "  (1054, 64)\t1.0\n",
      "  (1054, 76)\t90.0\n",
      "  (1054, 77)\t125.0\n",
      "  (1054, 78)\t73.0\n",
      "  (1054, 79)\t89.0\n",
      "  (1054, 80)\t2.04\n",
      "  (1054, 81)\t0.147\n"
     ]
    }
   ],
   "source": [
    "print(x_train)"
   ]
  },
  {
   "cell_type": "code",
   "execution_count": 36,
   "id": "8f45d3ba",
   "metadata": {},
   "outputs": [
    {
     "name": "stdout",
     "output_type": "stream",
     "text": [
      "  (0, 45)\t1.0\n",
      "  (0, 75)\t1.0\n",
      "  (0, 76)\t89.0\n",
      "  (0, 77)\t87.0\n",
      "  (0, 78)\t53.0\n",
      "  (0, 79)\t81.0\n",
      "  (0, 80)\t0.961\n",
      "  (0, 81)\t0.015\n",
      "  (1, 40)\t1.0\n",
      "  (1, 76)\t80.0\n",
      "  (1, 77)\t167.0\n",
      "  (1, 78)\t97.0\n",
      "  (1, 79)\t92.0\n",
      "  (1, 80)\t1.67\n",
      "  (1, 81)\t0.017\n",
      "  (2, 39)\t1.0\n",
      "  (2, 75)\t1.0\n",
      "  (2, 76)\t51.0\n",
      "  (2, 77)\t130.0\n",
      "  (2, 78)\t70.0\n",
      "  (2, 79)\t92.0\n",
      "  (2, 80)\t4.25\n",
      "  (2, 81)\t0.008\n",
      "  (3, 64)\t1.0\n",
      "  (3, 76)\t88.0\n",
      "  :\t:\n",
      "  (260, 79)\t97.0\n",
      "  (260, 80)\t1.69\n",
      "  (260, 81)\t0.005\n",
      "  (261, 50)\t1.0\n",
      "  (261, 76)\t60.0\n",
      "  (261, 77)\t124.0\n",
      "  (261, 78)\t58.0\n",
      "  (261, 79)\t180.0\n",
      "  (261, 80)\t1.08\n",
      "  (261, 81)\t0.003\n",
      "  (262, 53)\t1.0\n",
      "  (262, 75)\t1.0\n",
      "  (262, 76)\t82.0\n",
      "  (262, 77)\t80.0\n",
      "  (262, 78)\t42.0\n",
      "  (262, 79)\t102.0\n",
      "  (262, 80)\t1.18\n",
      "  (262, 81)\t0.01\n",
      "  (263, 37)\t1.0\n",
      "  (263, 76)\t50.0\n",
      "  (263, 77)\t110.0\n",
      "  (263, 78)\t90.0\n",
      "  (263, 79)\t219.0\n",
      "  (263, 80)\t6.78\n",
      "  (263, 81)\t2.53\n"
     ]
    }
   ],
   "source": [
    "print(x_test)"
   ]
  },
  {
   "cell_type": "code",
   "execution_count": 37,
   "id": "880c4f7a",
   "metadata": {},
   "outputs": [
    {
     "name": "stdout",
     "output_type": "stream",
     "text": [
      "[1 0 1 ... 1 1 1]\n"
     ]
    }
   ],
   "source": [
    "print(y_train)"
   ]
  },
  {
   "cell_type": "code",
   "execution_count": 38,
   "id": "3e096954",
   "metadata": {},
   "outputs": [
    {
     "name": "stdout",
     "output_type": "stream",
     "text": [
      "[1 1 0 0 0 0 0 0 1 1 0 1 1 0 1 0 1 0 0 1 0 1 1 1 1 1 1 1 1 0 0 1 0 1 1 0 1\n",
      " 0 1 1 0 1 0 0 0 1 0 1 1 0 1 1 1 0 0 1 1 0 0 1 1 0 1 1 1 0 0 0 1 1 1 1 1 0\n",
      " 1 1 0 1 0 1 1 0 1 1 1 0 1 1 1 1 1 1 1 1 0 1 0 1 1 1 1 0 1 1 1 0 1 1 0 1 0\n",
      " 1 0 0 0 1 1 1 0 1 0 1 0 1 1 1 0 1 0 1 1 1 1 1 1 0 0 1 1 0 0 0 1 1 0 0 0 0\n",
      " 1 1 0 1 1 0 1 1 0 1 1 0 1 0 1 0 0 1 0 1 0 0 1 0 1 0 1 1 1 0 0 1 1 1 0 1 1\n",
      " 0 0 1 1 0 0 1 0 1 0 1 1 0 1 0 0 1 0 1 1 1 1 0 1 1 1 0 0 0 0 1 1 0 1 1 1 1\n",
      " 1 0 1 1 1 0 1 1 0 1 1 1 1 1 0 1 1 1 1 1 0 1 1 1 0 0 0 1 0 0 1 0 0 1 1 0 1\n",
      " 1 0 0 0 1]\n"
     ]
    }
   ],
   "source": [
    "print(y_test)"
   ]
  },
  {
   "cell_type": "code",
   "execution_count": null,
   "id": "be6acc2f",
   "metadata": {},
   "outputs": [],
   "source": []
  },
  {
   "cell_type": "code",
   "execution_count": 40,
   "id": "7baec6cb",
   "metadata": {},
   "outputs": [],
   "source": [
    "from sklearn.preprocessing import StandardScaler"
   ]
  },
  {
   "cell_type": "code",
   "execution_count": 50,
   "id": "73483396",
   "metadata": {
    "scrolled": true
   },
   "outputs": [],
   "source": [
    "sc = StandardScaler(with_mean=False)\n",
    "x_train[:, 3:] = sc.fit_transform(x_train[:, 3:])\n",
    "x_test[:, 3:] = sc.transform(x_test[:, 3:])"
   ]
  },
  {
   "cell_type": "code",
   "execution_count": 51,
   "id": "b21e5e25",
   "metadata": {},
   "outputs": [
    {
     "name": "stdout",
     "output_type": "stream",
     "text": [
      "  (0, 37)\t4.751770196292861\n",
      "  (0, 76)\t1.0313876864609586\n",
      "  (0, 77)\t4.226959730949028\n",
      "  (0, 78)\t4.66667129912809\n",
      "  (0, 79)\t2.6640703027449444\n",
      "  (0, 80)\t0.0554067243565128\n",
      "  (0, 81)\t0.020090349303835953\n",
      "  (1, 15)\t14.560383302123675\n",
      "  (1, 75)\t2.103597975233199\n",
      "  (1, 76)\t1.0838311281454143\n",
      "  (1, 77)\t2.9204449050193286\n",
      "  (1, 78)\t3.948721868492999\n",
      "  (1, 79)\t1.3576512119757889\n",
      "  (1, 80)\t0.015548922645503593\n",
      "  (1, 81)\t0.005859685213618818\n",
      "  (2, 47)\t4.751770196292861\n",
      "  (2, 75)\t2.103597975233199\n",
      "  (2, 76)\t1.2236803059706292\n",
      "  (2, 77)\t5.456620743588745\n",
      "  (2, 78)\t5.3846207297631805\n",
      "  (2, 79)\t1.3832672725791058\n",
      "  (2, 80)\t3.6134820232508353\n",
      "  (2, 81)\t0.04855167748427021\n",
      "  (3, 34)\t6.706833209782944\n",
      "  (3, 75)\t2.103597975233199\n",
      "  :\t:\n",
      "  (1051, 80)\t0.041609792995009616\n",
      "  (1051, 81)\t0.005022587325958988\n",
      "  (1052, 12)\t12.317506448287277\n",
      "  (1052, 75)\t2.103597975233199\n",
      "  (1052, 76)\t1.0488688336891105\n",
      "  (1052, 77)\t7.762235142288217\n",
      "  (1052, 78)\t6.317954989588799\n",
      "  (1052, 79)\t2.523181969426702\n",
      "  (1052, 80)\t0.2822895956345653\n",
      "  (1052, 81)\t0.002511293662979494\n",
      "  (1053, 42)\t3.6354247089806524\n",
      "  (1053, 75)\t2.103597975233199\n",
      "  (1053, 76)\t0.9265008030920475\n",
      "  (1053, 77)\t3.9195444777890995\n",
      "  (1053, 78)\t4.3794915268740535\n",
      "  (1053, 79)\t3.8808331814024912\n",
      "  (1053, 80)\t0.30813146707357125\n",
      "  (1053, 81)\t0.6830718763304223\n",
      "  (1054, 64)\t18.779497287672353\n",
      "  (1054, 76)\t1.5733032505336657\n",
      "  (1054, 77)\t4.803363330623896\n",
      "  (1054, 78)\t5.241030843636162\n",
      "  (1054, 79)\t1.1399146968475964\n",
      "  (1054, 80)\t0.04467577774201033\n",
      "  (1054, 81)\t0.12305338948599519\n"
     ]
    }
   ],
   "source": [
    "print(x_train)"
   ]
  },
  {
   "cell_type": "code",
   "execution_count": 52,
   "id": "ea65db93",
   "metadata": {},
   "outputs": [
    {
     "name": "stdout",
     "output_type": "stream",
     "text": [
      "  (0, 45)\t4.751770196292861\n",
      "  (0, 75)\t2.103597975233199\n",
      "  (0, 76)\t1.555822103305514\n",
      "  (0, 77)\t3.343140878114232\n",
      "  (0, 78)\t3.805131982365981\n",
      "  (0, 79)\t1.0374504544343293\n",
      "  (0, 80)\t0.021045795299054863\n",
      "  (0, 81)\t0.012556468314897469\n",
      "  (1, 40)\t6.574516852564925\n",
      "  (1, 76)\t1.398491778252147\n",
      "  (1, 77)\t6.417293409713526\n",
      "  (1, 78)\t6.96410947716038\n",
      "  (1, 79)\t1.1783387877525715\n",
      "  (1, 80)\t0.036572818053508455\n",
      "  (1, 81)\t0.014230664090217133\n",
      "  (2, 39)\t8.73902691746921\n",
      "  (2, 75)\t2.103597975233199\n",
      "  (2, 76)\t0.8915385086357438\n",
      "  (2, 77)\t4.995497863848852\n",
      "  (2, 78)\t5.025646014445635\n",
      "  (2, 79)\t1.1783387877525715\n",
      "  (2, 80)\t0.09307453696252152\n",
      "  (2, 81)\t0.00669678310127865\n",
      "  (3, 64)\t18.779497287672353\n",
      "  (3, 76)\t1.538340956077362\n",
      "  :\t:\n",
      "  (260, 79)\t1.2423789392608635\n",
      "  (260, 80)\t0.03701081587450856\n",
      "  (260, 81)\t0.004185489438299157\n",
      "  (261, 50)\t6.221401393893226\n",
      "  (261, 76)\t1.0488688336891105\n",
      "  (261, 77)\t4.764936423978905\n",
      "  (261, 78)\t4.164106697683526\n",
      "  (261, 79)\t2.3054454542985097\n",
      "  (261, 80)\t0.023651882334005468\n",
      "  (261, 81)\t0.002511293662979494\n",
      "  (262, 53)\t9.430173484083785\n",
      "  (262, 75)\t2.103597975233199\n",
      "  (262, 76)\t1.4334540727084508\n",
      "  (262, 77)\t3.074152531599294\n",
      "  (262, 78)\t3.0153876086673814\n",
      "  (262, 79)\t1.3064190907691553\n",
      "  (262, 80)\t0.025841871439005973\n",
      "  (262, 81)\t0.008370978876598314\n",
      "  (263, 37)\t4.751770196292861\n",
      "  (263, 76)\t0.874057361407592\n",
      "  (263, 77)\t4.226959730949028\n",
      "  (263, 78)\t6.461544875715817\n",
      "  (263, 79)\t2.8049586360631866\n",
      "  (263, 80)\t0.14848126131903433\n",
      "  (263, 81)\t2.1178576557793733\n"
     ]
    }
   ],
   "source": [
    "print(x_test)"
   ]
  },
  {
   "cell_type": "code",
   "execution_count": null,
   "id": "a5efef04",
   "metadata": {},
   "outputs": [],
   "source": []
  },
  {
   "cell_type": "code",
   "execution_count": null,
   "id": "a0e01edd",
   "metadata": {},
   "outputs": [],
   "source": []
  },
  {
   "cell_type": "code",
   "execution_count": null,
   "id": "efab41b6",
   "metadata": {},
   "outputs": [],
   "source": []
  }
 ],
 "metadata": {
  "kernelspec": {
   "display_name": "Python 3 (ipykernel)",
   "language": "python",
   "name": "python3"
  },
  "language_info": {
   "codemirror_mode": {
    "name": "ipython",
    "version": 3
   },
   "file_extension": ".py",
   "mimetype": "text/x-python",
   "name": "python",
   "nbconvert_exporter": "python",
   "pygments_lexer": "ipython3",
   "version": "3.11.4"
  }
 },
 "nbformat": 4,
 "nbformat_minor": 5
}
